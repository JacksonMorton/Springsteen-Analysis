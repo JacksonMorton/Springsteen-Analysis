{
 "cells": [
  {
   "cell_type": "markdown",
   "metadata": {},
   "source": [
    "#### Import libraries"
   ]
  },
  {
   "cell_type": "code",
   "execution_count": 1,
   "metadata": {
    "collapsed": true
   },
   "outputs": [],
   "source": [
    "import pandas as pd\n",
    "import numpy as np\n",
    "import math\n",
    "from collections import Counter\n",
    "from datetime import datetime, timedelta\n",
    "import matplotlib"
   ]
  },
  {
   "cell_type": "markdown",
   "metadata": {},
   "source": [
    "# Lyrics Data"
   ]
  },
  {
   "cell_type": "markdown",
   "metadata": {},
   "source": [
    "#### Import lyrics"
   ]
  },
  {
   "cell_type": "code",
   "execution_count": 2,
   "metadata": {
    "collapsed": true
   },
   "outputs": [],
   "source": [
    "lyrics = pd.read_csv('bruce_lyrics.csv')"
   ]
  },
  {
   "cell_type": "markdown",
   "metadata": {},
   "source": [
    "#### Populate the album name and song name corresponding to each line of lyrics"
   ]
  },
  {
   "cell_type": "code",
   "execution_count": 3,
   "metadata": {
    "collapsed": true
   },
   "outputs": [],
   "source": [
    "for row,column in lyrics.iterrows():\n",
    "    if isinstance(lyrics.loc[row,'Album'], basestring) is False:\n",
    "        lyrics.loc[row,'Album'] = lyrics.loc[(row-1),'Album']\n",
    "    else: pass\n",
    "    \n",
    "    if isinstance(lyrics.loc[row,'Song'], basestring) is False:\n",
    "        lyrics.loc[row,'Song'] = lyrics.loc[(row-1),'Song']\n",
    "    else: pass"
   ]
  },
  {
   "cell_type": "markdown",
   "metadata": {},
   "source": [
    "#### Remove rows where the 'Lyrics' field is blank"
   ]
  },
  {
   "cell_type": "code",
   "execution_count": 4,
   "metadata": {
    "collapsed": true
   },
   "outputs": [],
   "source": [
    "for row, column in lyrics.iterrows():\n",
    "    if isinstance(lyrics.loc[row,'Lyrics'], float):\n",
    "        lyrics.drop(row, axis=0, inplace=True)\n",
    "\n",
    "lyrics.reset_index(inplace=True)"
   ]
  },
  {
   "cell_type": "markdown",
   "metadata": {},
   "source": [
    "#### Add a column with a unique ID for each song"
   ]
  },
  {
   "cell_type": "code",
   "execution_count": 5,
   "metadata": {
    "collapsed": true
   },
   "outputs": [],
   "source": [
    "lyrics['ID'] = lyrics['Song']\n",
    "song_id = 1"
   ]
  },
  {
   "cell_type": "code",
   "execution_count": 6,
   "metadata": {
    "collapsed": true
   },
   "outputs": [],
   "source": [
    "for row, column in lyrics.iterrows():\n",
    "    if row == 0:\n",
    "        lyrics.loc[row,'ID'] = song_id\n",
    "    else:\n",
    "        if lyrics.loc[row,'Song'] == lyrics.loc[row-1,'Song']:\n",
    "            lyrics.loc[row,'ID'] = song_id\n",
    "        else:\n",
    "            song_id += 1\n",
    "            lyrics.loc[row,'ID'] = song_id"
   ]
  },
  {
   "cell_type": "markdown",
   "metadata": {},
   "source": [
    "#### Create a list where each entry is a list of the lines in each song"
   ]
  },
  {
   "cell_type": "code",
   "execution_count": 7,
   "metadata": {
    "collapsed": true
   },
   "outputs": [],
   "source": [
    "all_lyrics = []; current_song = []; songID = 1\n",
    "for row,column in lyrics.iterrows():\n",
    "    if lyrics.loc[row,'ID'] == songID:\n",
    "        current_song.append(lyrics.loc[row,'Lyrics'])\n",
    "    else:\n",
    "        all_lyrics.append(current_song)\n",
    "        songID += 1\n",
    "        current_song = [lyrics.loc[row,'Lyrics']]\n",
    "all_lyrics.append(current_song)"
   ]
  },
  {
   "cell_type": "markdown",
   "metadata": {},
   "source": [
    "#### Create a list where each entry is a list of the words in each song"
   ]
  },
  {
   "cell_type": "code",
   "execution_count": 8,
   "metadata": {
    "collapsed": true
   },
   "outputs": [],
   "source": [
    "all_lyrics_words = []\n",
    "songs = range(0, len(all_lyrics))\n",
    "for song in songs:\n",
    "    all_lyrics_words.append(' '.join(all_lyrics[song]).split())"
   ]
  },
  {
   "cell_type": "markdown",
   "metadata": {},
   "source": [
    "#### Create a new DataFrame ('lyrics_v2'), which contains just 1 row for each song"
   ]
  },
  {
   "cell_type": "code",
   "execution_count": 9,
   "metadata": {
    "collapsed": false
   },
   "outputs": [
    {
     "data": {
      "text/html": [
       "<div>\n",
       "<table border=\"1\" class=\"dataframe\">\n",
       "  <thead>\n",
       "    <tr style=\"text-align: right;\">\n",
       "      <th></th>\n",
       "      <th>Album</th>\n",
       "      <th>Song</th>\n",
       "      <th>ID</th>\n",
       "    </tr>\n",
       "  </thead>\n",
       "  <tbody>\n",
       "    <tr>\n",
       "      <th>0</th>\n",
       "      <td>Greetings from Asbury Park, N.J.</td>\n",
       "      <td>Blinded by the Light</td>\n",
       "      <td>1</td>\n",
       "    </tr>\n",
       "    <tr>\n",
       "      <th>1</th>\n",
       "      <td>Greetings from Asbury Park, N.J.</td>\n",
       "      <td>Growin' Up</td>\n",
       "      <td>2</td>\n",
       "    </tr>\n",
       "    <tr>\n",
       "      <th>2</th>\n",
       "      <td>Greetings from Asbury Park, N.J.</td>\n",
       "      <td>Mary Queen of Arkansas</td>\n",
       "      <td>3</td>\n",
       "    </tr>\n",
       "    <tr>\n",
       "      <th>3</th>\n",
       "      <td>Greetings from Asbury Park, N.J.</td>\n",
       "      <td>Does this Bus Stop at 82nd Street?</td>\n",
       "      <td>4</td>\n",
       "    </tr>\n",
       "    <tr>\n",
       "      <th>4</th>\n",
       "      <td>Greetings from Asbury Park, N.J.</td>\n",
       "      <td>Lost in the Flood</td>\n",
       "      <td>5</td>\n",
       "    </tr>\n",
       "  </tbody>\n",
       "</table>\n",
       "</div>"
      ],
      "text/plain": [
       "                              Album                                Song ID\n",
       "0  Greetings from Asbury Park, N.J.                Blinded by the Light  1\n",
       "1  Greetings from Asbury Park, N.J.                          Growin' Up  2\n",
       "2  Greetings from Asbury Park, N.J.              Mary Queen of Arkansas  3\n",
       "3  Greetings from Asbury Park, N.J.  Does this Bus Stop at 82nd Street?  4\n",
       "4  Greetings from Asbury Park, N.J.                   Lost in the Flood  5"
      ]
     },
     "execution_count": 9,
     "metadata": {},
     "output_type": "execute_result"
    }
   ],
   "source": [
    "lyrics_v2 = lyrics.drop_duplicates(subset='ID')\n",
    "lyrics_v2.reset_index(inplace=True)\n",
    "lyrics_v2 = lyrics_v2.drop('level_0', axis=1).drop('index', axis=1).drop('Lyrics', axis=1)\n",
    "lyrics_v2.head()"
   ]
  },
  {
   "cell_type": "markdown",
   "metadata": {},
   "source": [
    "#### Add the lyrics to 'lyrics_v2'"
   ]
  },
  {
   "cell_type": "code",
   "execution_count": 10,
   "metadata": {
    "collapsed": true
   },
   "outputs": [],
   "source": [
    "lyrics_v2['Lyrics'] = pd.Series(all_lyrics_words)"
   ]
  },
  {
   "cell_type": "code",
   "execution_count": 11,
   "metadata": {
    "collapsed": false
   },
   "outputs": [
    {
     "data": {
      "text/html": [
       "<div>\n",
       "<table border=\"1\" class=\"dataframe\">\n",
       "  <thead>\n",
       "    <tr style=\"text-align: right;\">\n",
       "      <th></th>\n",
       "      <th>Album</th>\n",
       "      <th>Song</th>\n",
       "      <th>ID</th>\n",
       "      <th>Lyrics</th>\n",
       "    </tr>\n",
       "  </thead>\n",
       "  <tbody>\n",
       "    <tr>\n",
       "      <th>0</th>\n",
       "      <td>Greetings from Asbury Park, N.J.</td>\n",
       "      <td>Blinded by the Light</td>\n",
       "      <td>1</td>\n",
       "      <td>[Madman, drummers, bummers, and, Indians, in, ...</td>\n",
       "    </tr>\n",
       "    <tr>\n",
       "      <th>1</th>\n",
       "      <td>Greetings from Asbury Park, N.J.</td>\n",
       "      <td>Growin' Up</td>\n",
       "      <td>2</td>\n",
       "      <td>[I, stood, stone-like, at, midnight, suspended...</td>\n",
       "    </tr>\n",
       "    <tr>\n",
       "      <th>2</th>\n",
       "      <td>Greetings from Asbury Park, N.J.</td>\n",
       "      <td>Mary Queen of Arkansas</td>\n",
       "      <td>3</td>\n",
       "      <td>[Mary, Queen, of, Arkansas,, it's, not, too, e...</td>\n",
       "    </tr>\n",
       "    <tr>\n",
       "      <th>3</th>\n",
       "      <td>Greetings from Asbury Park, N.J.</td>\n",
       "      <td>Does this Bus Stop at 82nd Street?</td>\n",
       "      <td>4</td>\n",
       "      <td>[Hey, bus, driver, keep, the, change,, bless, ...</td>\n",
       "    </tr>\n",
       "    <tr>\n",
       "      <th>4</th>\n",
       "      <td>Greetings from Asbury Park, N.J.</td>\n",
       "      <td>Lost in the Flood</td>\n",
       "      <td>5</td>\n",
       "      <td>[The, ragamuffin, gunner, is, returnin', home,...</td>\n",
       "    </tr>\n",
       "  </tbody>\n",
       "</table>\n",
       "</div>"
      ],
      "text/plain": [
       "                              Album                                Song ID  \\\n",
       "0  Greetings from Asbury Park, N.J.                Blinded by the Light  1   \n",
       "1  Greetings from Asbury Park, N.J.                          Growin' Up  2   \n",
       "2  Greetings from Asbury Park, N.J.              Mary Queen of Arkansas  3   \n",
       "3  Greetings from Asbury Park, N.J.  Does this Bus Stop at 82nd Street?  4   \n",
       "4  Greetings from Asbury Park, N.J.                   Lost in the Flood  5   \n",
       "\n",
       "                                              Lyrics  \n",
       "0  [Madman, drummers, bummers, and, Indians, in, ...  \n",
       "1  [I, stood, stone-like, at, midnight, suspended...  \n",
       "2  [Mary, Queen, of, Arkansas,, it's, not, too, e...  \n",
       "3  [Hey, bus, driver, keep, the, change,, bless, ...  \n",
       "4  [The, ragamuffin, gunner, is, returnin', home,...  "
      ]
     },
     "execution_count": 11,
     "metadata": {},
     "output_type": "execute_result"
    }
   ],
   "source": [
    "lyrics_v2.head()"
   ]
  },
  {
   "cell_type": "markdown",
   "metadata": {},
   "source": [
    "#### Export data to .csv file to remove unwanted symbols at the end of each lyrics list using the \"Replace\" function in Excel. (These symbols are an artifact of the process used to collect lyrics from the internet.)\n",
    "\n",
    "#### In addition, add the length to each song. These values were manually imported from tracklists on Wikipedia."
   ]
  },
  {
   "cell_type": "code",
   "execution_count": 12,
   "metadata": {
    "collapsed": true
   },
   "outputs": [],
   "source": [
    "lyrics_v2.to_csv('lyrics_v2.csv')"
   ]
  },
  {
   "cell_type": "code",
   "execution_count": 13,
   "metadata": {
    "collapsed": true
   },
   "outputs": [],
   "source": [
    "lyrics_v3 = pd.read_csv('lyrics_v2.csv')"
   ]
  },
  {
   "cell_type": "code",
   "execution_count": 14,
   "metadata": {
    "collapsed": false
   },
   "outputs": [
    {
     "data": {
      "text/html": [
       "<div>\n",
       "<table border=\"1\" class=\"dataframe\">\n",
       "  <thead>\n",
       "    <tr style=\"text-align: right;\">\n",
       "      <th></th>\n",
       "      <th>ID</th>\n",
       "      <th>Album</th>\n",
       "      <th>Song</th>\n",
       "      <th>Minutes</th>\n",
       "      <th>Seconds</th>\n",
       "      <th>Length</th>\n",
       "      <th>Lyrics</th>\n",
       "    </tr>\n",
       "  </thead>\n",
       "  <tbody>\n",
       "    <tr>\n",
       "      <th>0</th>\n",
       "      <td>1</td>\n",
       "      <td>Greetings from Asbury Park, N.J.</td>\n",
       "      <td>Blinded by the Light</td>\n",
       "      <td>5</td>\n",
       "      <td>4</td>\n",
       "      <td>304</td>\n",
       "      <td>['Madman', 'drummers', 'bummers', 'and', 'Indi...</td>\n",
       "    </tr>\n",
       "    <tr>\n",
       "      <th>1</th>\n",
       "      <td>2</td>\n",
       "      <td>Greetings from Asbury Park, N.J.</td>\n",
       "      <td>Growin' Up</td>\n",
       "      <td>3</td>\n",
       "      <td>5</td>\n",
       "      <td>185</td>\n",
       "      <td>['I', 'stood', 'stone-like', 'at', 'midnight',...</td>\n",
       "    </tr>\n",
       "    <tr>\n",
       "      <th>2</th>\n",
       "      <td>3</td>\n",
       "      <td>Greetings from Asbury Park, N.J.</td>\n",
       "      <td>Mary Queen of Arkansas</td>\n",
       "      <td>5</td>\n",
       "      <td>21</td>\n",
       "      <td>321</td>\n",
       "      <td>['Mary', 'Queen', 'of', 'Arkansas,', \"it's\", '...</td>\n",
       "    </tr>\n",
       "    <tr>\n",
       "      <th>3</th>\n",
       "      <td>4</td>\n",
       "      <td>Greetings from Asbury Park, N.J.</td>\n",
       "      <td>Does this Bus Stop at 82nd Street?</td>\n",
       "      <td>2</td>\n",
       "      <td>5</td>\n",
       "      <td>125</td>\n",
       "      <td>['Hey', 'bus', 'driver', 'keep', 'the', 'chang...</td>\n",
       "    </tr>\n",
       "    <tr>\n",
       "      <th>4</th>\n",
       "      <td>5</td>\n",
       "      <td>Greetings from Asbury Park, N.J.</td>\n",
       "      <td>Lost in the Flood</td>\n",
       "      <td>5</td>\n",
       "      <td>13</td>\n",
       "      <td>313</td>\n",
       "      <td>['The', 'ragamuffin', 'gunner', 'is', \"returni...</td>\n",
       "    </tr>\n",
       "  </tbody>\n",
       "</table>\n",
       "</div>"
      ],
      "text/plain": [
       "   ID                             Album                                Song  \\\n",
       "0   1  Greetings from Asbury Park, N.J.                Blinded by the Light   \n",
       "1   2  Greetings from Asbury Park, N.J.                          Growin' Up   \n",
       "2   3  Greetings from Asbury Park, N.J.              Mary Queen of Arkansas   \n",
       "3   4  Greetings from Asbury Park, N.J.  Does this Bus Stop at 82nd Street?   \n",
       "4   5  Greetings from Asbury Park, N.J.                   Lost in the Flood   \n",
       "\n",
       "   Minutes  Seconds  Length                                             Lyrics  \n",
       "0        5        4     304  ['Madman', 'drummers', 'bummers', 'and', 'Indi...  \n",
       "1        3        5     185  ['I', 'stood', 'stone-like', 'at', 'midnight',...  \n",
       "2        5       21     321  ['Mary', 'Queen', 'of', 'Arkansas,', \"it's\", '...  \n",
       "3        2        5     125  ['Hey', 'bus', 'driver', 'keep', 'the', 'chang...  \n",
       "4        5       13     313  ['The', 'ragamuffin', 'gunner', 'is', \"returni...  "
      ]
     },
     "execution_count": 14,
     "metadata": {},
     "output_type": "execute_result"
    }
   ],
   "source": [
    "lyrics_v3 = lyrics_v3.drop('Unnamed: 0', axis=1)\n",
    "lyrics_v3.head()"
   ]
  },
  {
   "cell_type": "markdown",
   "metadata": {},
   "source": [
    "#### Calculate the number of words per song"
   ]
  },
  {
   "cell_type": "code",
   "execution_count": 15,
   "metadata": {
    "collapsed": true
   },
   "outputs": [],
   "source": [
    "lyrics_list = map(lambda item: item.replace(\"'\", \"\").replace('\"','').replace(',,', ','), lyrics_v3.loc[:,'Lyrics'])"
   ]
  },
  {
   "cell_type": "code",
   "execution_count": 16,
   "metadata": {
    "collapsed": true
   },
   "outputs": [],
   "source": [
    "lyrics_words = []\n",
    "counter = []; total_words = []\n",
    "repeat_words = []; percent_repeat = []\n",
    "\n",
    "once = 0\n",
    "\n",
    "for i in range(0,len(lyrics_v3)):\n",
    "    once = 0\n",
    "    lyrics_words.append( lyrics_list[i].replace(',,' , ',').split(',') )\n",
    "    total_words.append( len(lyrics_words[i]) )\n",
    "    counter.append( Counter(lyrics_words[i]) )\n",
    "    for j in counter[i].values():\n",
    "        if j==1: once += 1\n",
    "        else: pass\n",
    "    repeat_words.append( float(total_words[i] - once) )\n",
    "    percent_repeat.append( 100 * repeat_words[i] / total_words[i] )"
   ]
  },
  {
   "cell_type": "markdown",
   "metadata": {},
   "source": [
    "#### Append total words/song, repeat words/song, and percentage of words that are repeated/song to the lyrics database"
   ]
  },
  {
   "cell_type": "code",
   "execution_count": 17,
   "metadata": {
    "collapsed": false
   },
   "outputs": [
    {
     "data": {
      "text/html": [
       "<div>\n",
       "<table border=\"1\" class=\"dataframe\">\n",
       "  <thead>\n",
       "    <tr style=\"text-align: right;\">\n",
       "      <th></th>\n",
       "      <th>ID</th>\n",
       "      <th>Album</th>\n",
       "      <th>Song</th>\n",
       "      <th>Minutes</th>\n",
       "      <th>Seconds</th>\n",
       "      <th>Length</th>\n",
       "      <th>Lyrics</th>\n",
       "      <th>percent_repeat</th>\n",
       "      <th>repeat_words</th>\n",
       "      <th>total_words</th>\n",
       "    </tr>\n",
       "  </thead>\n",
       "  <tbody>\n",
       "    <tr>\n",
       "      <th>0</th>\n",
       "      <td>1</td>\n",
       "      <td>Greetings from Asbury Park, N.J.</td>\n",
       "      <td>Blinded by the Light</td>\n",
       "      <td>5</td>\n",
       "      <td>4</td>\n",
       "      <td>304</td>\n",
       "      <td>['Madman', 'drummers', 'bummers', 'and', 'Indi...</td>\n",
       "      <td>57.782101</td>\n",
       "      <td>297.0</td>\n",
       "      <td>514</td>\n",
       "    </tr>\n",
       "    <tr>\n",
       "      <th>1</th>\n",
       "      <td>2</td>\n",
       "      <td>Greetings from Asbury Park, N.J.</td>\n",
       "      <td>Growin' Up</td>\n",
       "      <td>3</td>\n",
       "      <td>5</td>\n",
       "      <td>185</td>\n",
       "      <td>['I', 'stood', 'stone-like', 'at', 'midnight',...</td>\n",
       "      <td>54.440154</td>\n",
       "      <td>141.0</td>\n",
       "      <td>259</td>\n",
       "    </tr>\n",
       "    <tr>\n",
       "      <th>2</th>\n",
       "      <td>3</td>\n",
       "      <td>Greetings from Asbury Park, N.J.</td>\n",
       "      <td>Mary Queen of Arkansas</td>\n",
       "      <td>5</td>\n",
       "      <td>21</td>\n",
       "      <td>321</td>\n",
       "      <td>['Mary', 'Queen', 'of', 'Arkansas,', \"it's\", '...</td>\n",
       "      <td>57.383966</td>\n",
       "      <td>136.0</td>\n",
       "      <td>237</td>\n",
       "    </tr>\n",
       "    <tr>\n",
       "      <th>3</th>\n",
       "      <td>4</td>\n",
       "      <td>Greetings from Asbury Park, N.J.</td>\n",
       "      <td>Does this Bus Stop at 82nd Street?</td>\n",
       "      <td>2</td>\n",
       "      <td>5</td>\n",
       "      <td>125</td>\n",
       "      <td>['Hey', 'bus', 'driver', 'keep', 'the', 'chang...</td>\n",
       "      <td>28.901734</td>\n",
       "      <td>50.0</td>\n",
       "      <td>173</td>\n",
       "    </tr>\n",
       "    <tr>\n",
       "      <th>4</th>\n",
       "      <td>5</td>\n",
       "      <td>Greetings from Asbury Park, N.J.</td>\n",
       "      <td>Lost in the Flood</td>\n",
       "      <td>5</td>\n",
       "      <td>13</td>\n",
       "      <td>313</td>\n",
       "      <td>['The', 'ragamuffin', 'gunner', 'is', \"returni...</td>\n",
       "      <td>53.211009</td>\n",
       "      <td>232.0</td>\n",
       "      <td>436</td>\n",
       "    </tr>\n",
       "  </tbody>\n",
       "</table>\n",
       "</div>"
      ],
      "text/plain": [
       "   ID                             Album                                Song  \\\n",
       "0   1  Greetings from Asbury Park, N.J.                Blinded by the Light   \n",
       "1   2  Greetings from Asbury Park, N.J.                          Growin' Up   \n",
       "2   3  Greetings from Asbury Park, N.J.              Mary Queen of Arkansas   \n",
       "3   4  Greetings from Asbury Park, N.J.  Does this Bus Stop at 82nd Street?   \n",
       "4   5  Greetings from Asbury Park, N.J.                   Lost in the Flood   \n",
       "\n",
       "   Minutes  Seconds  Length  \\\n",
       "0        5        4     304   \n",
       "1        3        5     185   \n",
       "2        5       21     321   \n",
       "3        2        5     125   \n",
       "4        5       13     313   \n",
       "\n",
       "                                              Lyrics  percent_repeat  \\\n",
       "0  ['Madman', 'drummers', 'bummers', 'and', 'Indi...       57.782101   \n",
       "1  ['I', 'stood', 'stone-like', 'at', 'midnight',...       54.440154   \n",
       "2  ['Mary', 'Queen', 'of', 'Arkansas,', \"it's\", '...       57.383966   \n",
       "3  ['Hey', 'bus', 'driver', 'keep', 'the', 'chang...       28.901734   \n",
       "4  ['The', 'ragamuffin', 'gunner', 'is', \"returni...       53.211009   \n",
       "\n",
       "   repeat_words  total_words  \n",
       "0         297.0          514  \n",
       "1         141.0          259  \n",
       "2         136.0          237  \n",
       "3          50.0          173  \n",
       "4         232.0          436  "
      ]
     },
     "execution_count": 17,
     "metadata": {},
     "output_type": "execute_result"
    }
   ],
   "source": [
    "lyrics_v4 = pd.merge(lyrics_v3, pd.DataFrame({'repeat_words':repeat_words,'total_words':total_words,'percent_repeat':percent_repeat}), \\\n",
    "                left_index=True, right_index=True)\n",
    "lyrics_v4.head()"
   ]
  },
  {
   "cell_type": "markdown",
   "metadata": {},
   "source": [
    "# Album Data"
   ]
  },
  {
   "cell_type": "markdown",
   "metadata": {},
   "source": [
    "#### Create a dataset of the number of songs per albums. Export this data to a .csv file, then manually add additional album attributes (date released and a field indicating if the album represented the release of new or previously creted material)."
   ]
  },
  {
   "cell_type": "code",
   "execution_count": 18,
   "metadata": {
    "collapsed": false
   },
   "outputs": [
    {
     "data": {
      "text/html": [
       "<div>\n",
       "<table border=\"1\" class=\"dataframe\">\n",
       "  <thead>\n",
       "    <tr style=\"text-align: right;\">\n",
       "      <th></th>\n",
       "      <th>ID</th>\n",
       "    </tr>\n",
       "    <tr>\n",
       "      <th>Album</th>\n",
       "      <th></th>\n",
       "    </tr>\n",
       "  </thead>\n",
       "  <tbody>\n",
       "    <tr>\n",
       "      <th>18 Tracks</th>\n",
       "      <td>18</td>\n",
       "    </tr>\n",
       "    <tr>\n",
       "      <th>Born in the U.S.A.</th>\n",
       "      <td>12</td>\n",
       "    </tr>\n",
       "    <tr>\n",
       "      <th>Born to Run</th>\n",
       "      <td>8</td>\n",
       "    </tr>\n",
       "    <tr>\n",
       "      <th>Darkness on the Edge of Town</th>\n",
       "      <td>10</td>\n",
       "    </tr>\n",
       "    <tr>\n",
       "      <th>Devils &amp; Dust</th>\n",
       "      <td>12</td>\n",
       "    </tr>\n",
       "  </tbody>\n",
       "</table>\n",
       "</div>"
      ],
      "text/plain": [
       "                              ID\n",
       "Album                           \n",
       "18 Tracks                     18\n",
       "Born in the U.S.A.            12\n",
       "Born to Run                    8\n",
       "Darkness on the Edge of Town  10\n",
       "Devils & Dust                 12"
      ]
     },
     "execution_count": 18,
     "metadata": {},
     "output_type": "execute_result"
    }
   ],
   "source": [
    "albums = lyrics_v3[['Album','ID']].groupby('Album').count()\n",
    "albums.to_csv('albums.csv')\n",
    "albums.head()"
   ]
  },
  {
   "cell_type": "code",
   "execution_count": 20,
   "metadata": {
    "collapsed": false
   },
   "outputs": [],
   "source": [
    "albums = pd.read_csv('bruce_albums.csv')"
   ]
  },
  {
   "cell_type": "code",
   "execution_count": 21,
   "metadata": {
    "collapsed": false
   },
   "outputs": [
    {
     "data": {
      "text/html": [
       "<div>\n",
       "<table border=\"1\" class=\"dataframe\">\n",
       "  <thead>\n",
       "    <tr style=\"text-align: right;\">\n",
       "      <th></th>\n",
       "      <th>Album</th>\n",
       "      <th>Release Year</th>\n",
       "      <th>New Material</th>\n",
       "      <th>Release Date</th>\n",
       "    </tr>\n",
       "  </thead>\n",
       "  <tbody>\n",
       "    <tr>\n",
       "      <th>0</th>\n",
       "      <td>Greetings from Asbury Park, N.J.</td>\n",
       "      <td>1973</td>\n",
       "      <td>1</td>\n",
       "      <td>1/5/73</td>\n",
       "    </tr>\n",
       "    <tr>\n",
       "      <th>1</th>\n",
       "      <td>The Wild, the Innocent, and the E Street Shuffle</td>\n",
       "      <td>1973</td>\n",
       "      <td>1</td>\n",
       "      <td>9/11/73</td>\n",
       "    </tr>\n",
       "    <tr>\n",
       "      <th>2</th>\n",
       "      <td>Born to Run</td>\n",
       "      <td>1975</td>\n",
       "      <td>1</td>\n",
       "      <td>8/25/75</td>\n",
       "    </tr>\n",
       "    <tr>\n",
       "      <th>3</th>\n",
       "      <td>Darkness on the Edge of Town</td>\n",
       "      <td>1978</td>\n",
       "      <td>1</td>\n",
       "      <td>6/2/78</td>\n",
       "    </tr>\n",
       "    <tr>\n",
       "      <th>4</th>\n",
       "      <td>The River</td>\n",
       "      <td>1980</td>\n",
       "      <td>1</td>\n",
       "      <td>10/17/80</td>\n",
       "    </tr>\n",
       "  </tbody>\n",
       "</table>\n",
       "</div>"
      ],
      "text/plain": [
       "                                              Album  Release Year  \\\n",
       "0                  Greetings from Asbury Park, N.J.          1973   \n",
       "1  The Wild, the Innocent, and the E Street Shuffle          1973   \n",
       "2                                       Born to Run          1975   \n",
       "3                      Darkness on the Edge of Town          1978   \n",
       "4                                         The River          1980   \n",
       "\n",
       "   New Material Release Date  \n",
       "0             1       1/5/73  \n",
       "1             1      9/11/73  \n",
       "2             1      8/25/75  \n",
       "3             1       6/2/78  \n",
       "4             1     10/17/80  "
      ]
     },
     "execution_count": 21,
     "metadata": {},
     "output_type": "execute_result"
    }
   ],
   "source": [
    "albums.head()"
   ]
  },
  {
   "cell_type": "markdown",
   "metadata": {},
   "source": [
    "#### We need to convert the elements in 'Release Date' to a time format readable by Pandas graphing functions."
   ]
  },
  {
   "cell_type": "code",
   "execution_count": 22,
   "metadata": {
    "collapsed": false
   },
   "outputs": [
    {
     "data": {
      "text/plain": [
       "numpy.ndarray"
      ]
     },
     "execution_count": 22,
     "metadata": {},
     "output_type": "execute_result"
    }
   ],
   "source": [
    "date_released = np.array(albums.loc[:,'Release Date'])\n",
    "formatted_dates = map(lambda date: datetime.strptime(date, '%m/%d/%y'), date_released)\n",
    "formatted_dates = matplotlib.dates.date2num(formatted_dates)\n",
    "type(formatted_dates)"
   ]
  },
  {
   "cell_type": "code",
   "execution_count": 23,
   "metadata": {
    "collapsed": true
   },
   "outputs": [],
   "source": [
    "dates_series = pd.DataFrame({'date_number':formatted_dates})\n",
    "albums = pd.merge(albums, dates_series, left_index=True, right_index=True)"
   ]
  },
  {
   "cell_type": "code",
   "execution_count": 24,
   "metadata": {
    "collapsed": false
   },
   "outputs": [
    {
     "data": {
      "text/html": [
       "<div>\n",
       "<table border=\"1\" class=\"dataframe\">\n",
       "  <thead>\n",
       "    <tr style=\"text-align: right;\">\n",
       "      <th></th>\n",
       "      <th>Album</th>\n",
       "      <th>Release Year</th>\n",
       "      <th>New Material</th>\n",
       "      <th>Release Date</th>\n",
       "      <th>date_number</th>\n",
       "    </tr>\n",
       "  </thead>\n",
       "  <tbody>\n",
       "    <tr>\n",
       "      <th>0</th>\n",
       "      <td>Greetings from Asbury Park, N.J.</td>\n",
       "      <td>1973</td>\n",
       "      <td>1</td>\n",
       "      <td>1/5/73</td>\n",
       "      <td>720263.0</td>\n",
       "    </tr>\n",
       "    <tr>\n",
       "      <th>1</th>\n",
       "      <td>The Wild, the Innocent, and the E Street Shuffle</td>\n",
       "      <td>1973</td>\n",
       "      <td>1</td>\n",
       "      <td>9/11/73</td>\n",
       "      <td>720512.0</td>\n",
       "    </tr>\n",
       "    <tr>\n",
       "      <th>2</th>\n",
       "      <td>Born to Run</td>\n",
       "      <td>1975</td>\n",
       "      <td>1</td>\n",
       "      <td>8/25/75</td>\n",
       "      <td>721225.0</td>\n",
       "    </tr>\n",
       "    <tr>\n",
       "      <th>3</th>\n",
       "      <td>Darkness on the Edge of Town</td>\n",
       "      <td>1978</td>\n",
       "      <td>1</td>\n",
       "      <td>6/2/78</td>\n",
       "      <td>722237.0</td>\n",
       "    </tr>\n",
       "    <tr>\n",
       "      <th>4</th>\n",
       "      <td>The River</td>\n",
       "      <td>1980</td>\n",
       "      <td>1</td>\n",
       "      <td>10/17/80</td>\n",
       "      <td>723105.0</td>\n",
       "    </tr>\n",
       "  </tbody>\n",
       "</table>\n",
       "</div>"
      ],
      "text/plain": [
       "                                              Album  Release Year  \\\n",
       "0                  Greetings from Asbury Park, N.J.          1973   \n",
       "1  The Wild, the Innocent, and the E Street Shuffle          1973   \n",
       "2                                       Born to Run          1975   \n",
       "3                      Darkness on the Edge of Town          1978   \n",
       "4                                         The River          1980   \n",
       "\n",
       "   New Material Release Date  date_number  \n",
       "0             1       1/5/73     720263.0  \n",
       "1             1      9/11/73     720512.0  \n",
       "2             1      8/25/75     721225.0  \n",
       "3             1       6/2/78     722237.0  \n",
       "4             1     10/17/80     723105.0  "
      ]
     },
     "execution_count": 24,
     "metadata": {},
     "output_type": "execute_result"
    }
   ],
   "source": [
    "albums.head()"
   ]
  },
  {
   "cell_type": "markdown",
   "metadata": {},
   "source": [
    "# Merge Lyrics Data and Album Data"
   ]
  },
  {
   "cell_type": "markdown",
   "metadata": {},
   "source": [
    "#### Merge the lyrics dataset and the albums data set"
   ]
  },
  {
   "cell_type": "code",
   "execution_count": 25,
   "metadata": {
    "collapsed": false
   },
   "outputs": [
    {
     "data": {
      "text/html": [
       "<div>\n",
       "<table border=\"1\" class=\"dataframe\">\n",
       "  <thead>\n",
       "    <tr style=\"text-align: right;\">\n",
       "      <th></th>\n",
       "      <th>ID</th>\n",
       "      <th>Album</th>\n",
       "      <th>Song</th>\n",
       "      <th>Minutes</th>\n",
       "      <th>Seconds</th>\n",
       "      <th>Length</th>\n",
       "      <th>Lyrics</th>\n",
       "      <th>percent_repeat</th>\n",
       "      <th>repeat_words</th>\n",
       "      <th>total_words</th>\n",
       "      <th>Release Year</th>\n",
       "      <th>New Material</th>\n",
       "      <th>Release Date</th>\n",
       "      <th>date_number</th>\n",
       "    </tr>\n",
       "  </thead>\n",
       "  <tbody>\n",
       "    <tr>\n",
       "      <th>0</th>\n",
       "      <td>1</td>\n",
       "      <td>Greetings from Asbury Park, N.J.</td>\n",
       "      <td>Blinded by the Light</td>\n",
       "      <td>5</td>\n",
       "      <td>4</td>\n",
       "      <td>304</td>\n",
       "      <td>['Madman', 'drummers', 'bummers', 'and', 'Indi...</td>\n",
       "      <td>57.782101</td>\n",
       "      <td>297.0</td>\n",
       "      <td>514</td>\n",
       "      <td>1973</td>\n",
       "      <td>1</td>\n",
       "      <td>1/5/73</td>\n",
       "      <td>720263.0</td>\n",
       "    </tr>\n",
       "    <tr>\n",
       "      <th>1</th>\n",
       "      <td>2</td>\n",
       "      <td>Greetings from Asbury Park, N.J.</td>\n",
       "      <td>Growin' Up</td>\n",
       "      <td>3</td>\n",
       "      <td>5</td>\n",
       "      <td>185</td>\n",
       "      <td>['I', 'stood', 'stone-like', 'at', 'midnight',...</td>\n",
       "      <td>54.440154</td>\n",
       "      <td>141.0</td>\n",
       "      <td>259</td>\n",
       "      <td>1973</td>\n",
       "      <td>1</td>\n",
       "      <td>1/5/73</td>\n",
       "      <td>720263.0</td>\n",
       "    </tr>\n",
       "    <tr>\n",
       "      <th>2</th>\n",
       "      <td>3</td>\n",
       "      <td>Greetings from Asbury Park, N.J.</td>\n",
       "      <td>Mary Queen of Arkansas</td>\n",
       "      <td>5</td>\n",
       "      <td>21</td>\n",
       "      <td>321</td>\n",
       "      <td>['Mary', 'Queen', 'of', 'Arkansas,', \"it's\", '...</td>\n",
       "      <td>57.383966</td>\n",
       "      <td>136.0</td>\n",
       "      <td>237</td>\n",
       "      <td>1973</td>\n",
       "      <td>1</td>\n",
       "      <td>1/5/73</td>\n",
       "      <td>720263.0</td>\n",
       "    </tr>\n",
       "    <tr>\n",
       "      <th>3</th>\n",
       "      <td>4</td>\n",
       "      <td>Greetings from Asbury Park, N.J.</td>\n",
       "      <td>Does this Bus Stop at 82nd Street?</td>\n",
       "      <td>2</td>\n",
       "      <td>5</td>\n",
       "      <td>125</td>\n",
       "      <td>['Hey', 'bus', 'driver', 'keep', 'the', 'chang...</td>\n",
       "      <td>28.901734</td>\n",
       "      <td>50.0</td>\n",
       "      <td>173</td>\n",
       "      <td>1973</td>\n",
       "      <td>1</td>\n",
       "      <td>1/5/73</td>\n",
       "      <td>720263.0</td>\n",
       "    </tr>\n",
       "    <tr>\n",
       "      <th>4</th>\n",
       "      <td>5</td>\n",
       "      <td>Greetings from Asbury Park, N.J.</td>\n",
       "      <td>Lost in the Flood</td>\n",
       "      <td>5</td>\n",
       "      <td>13</td>\n",
       "      <td>313</td>\n",
       "      <td>['The', 'ragamuffin', 'gunner', 'is', \"returni...</td>\n",
       "      <td>53.211009</td>\n",
       "      <td>232.0</td>\n",
       "      <td>436</td>\n",
       "      <td>1973</td>\n",
       "      <td>1</td>\n",
       "      <td>1/5/73</td>\n",
       "      <td>720263.0</td>\n",
       "    </tr>\n",
       "  </tbody>\n",
       "</table>\n",
       "</div>"
      ],
      "text/plain": [
       "   ID                             Album                                Song  \\\n",
       "0   1  Greetings from Asbury Park, N.J.                Blinded by the Light   \n",
       "1   2  Greetings from Asbury Park, N.J.                          Growin' Up   \n",
       "2   3  Greetings from Asbury Park, N.J.              Mary Queen of Arkansas   \n",
       "3   4  Greetings from Asbury Park, N.J.  Does this Bus Stop at 82nd Street?   \n",
       "4   5  Greetings from Asbury Park, N.J.                   Lost in the Flood   \n",
       "\n",
       "   Minutes  Seconds  Length  \\\n",
       "0        5        4     304   \n",
       "1        3        5     185   \n",
       "2        5       21     321   \n",
       "3        2        5     125   \n",
       "4        5       13     313   \n",
       "\n",
       "                                              Lyrics  percent_repeat  \\\n",
       "0  ['Madman', 'drummers', 'bummers', 'and', 'Indi...       57.782101   \n",
       "1  ['I', 'stood', 'stone-like', 'at', 'midnight',...       54.440154   \n",
       "2  ['Mary', 'Queen', 'of', 'Arkansas,', \"it's\", '...       57.383966   \n",
       "3  ['Hey', 'bus', 'driver', 'keep', 'the', 'chang...       28.901734   \n",
       "4  ['The', 'ragamuffin', 'gunner', 'is', \"returni...       53.211009   \n",
       "\n",
       "   repeat_words  total_words  Release Year  New Material Release Date  \\\n",
       "0         297.0          514          1973             1       1/5/73   \n",
       "1         141.0          259          1973             1       1/5/73   \n",
       "2         136.0          237          1973             1       1/5/73   \n",
       "3          50.0          173          1973             1       1/5/73   \n",
       "4         232.0          436          1973             1       1/5/73   \n",
       "\n",
       "   date_number  \n",
       "0     720263.0  \n",
       "1     720263.0  \n",
       "2     720263.0  \n",
       "3     720263.0  \n",
       "4     720263.0  "
      ]
     },
     "execution_count": 25,
     "metadata": {},
     "output_type": "execute_result"
    }
   ],
   "source": [
    "master_springsteen_data = lyrics_v4.merge(albums, on='Album', how='left')\n",
    "master_springsteen_data.head()"
   ]
  },
  {
   "cell_type": "markdown",
   "metadata": {},
   "source": [
    "#### Export complete dataset to .csv"
   ]
  },
  {
   "cell_type": "code",
   "execution_count": 26,
   "metadata": {
    "collapsed": true
   },
   "outputs": [],
   "source": [
    "master_springsteen_data.to_csv('master_springsteen_data.csv')"
   ]
  }
 ],
 "metadata": {
  "anaconda-cloud": {},
  "kernelspec": {
   "display_name": "Python [default]",
   "language": "python",
   "name": "python2"
  },
  "language_info": {
   "codemirror_mode": {
    "name": "ipython",
    "version": 2
   },
   "file_extension": ".py",
   "mimetype": "text/x-python",
   "name": "python",
   "nbconvert_exporter": "python",
   "pygments_lexer": "ipython2",
   "version": "2.7.12"
  }
 },
 "nbformat": 4,
 "nbformat_minor": 1
}
